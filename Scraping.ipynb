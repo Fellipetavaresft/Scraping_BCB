{
 "cells": [
  {
   "cell_type": "code",
   "execution_count": null,
   "metadata": {},
   "outputs": [],
   "source": [
    "from selenium import webdriver\n",
    "import time"
   ]
  },
  {
   "cell_type": "code",
   "execution_count": null,
   "metadata": {},
   "outputs": [],
   "source": [
    "#Fazer o download do chromedriver.exe e salvar em uma pasta, depois deve informar na variavel executable_path o caminho. \n",
    "#No meu caso copiei o arquivo para \"C:/path/chromedriver.exe\"\n",
    "\n",
    "browser = webdriver.Chrome(executable_path=r\"C:\\path\\chromedriver.exe\")\n",
    "browser.get('https://www3.bcb.gov.br/ifdata/')"
   ]
  },
  {
   "cell_type": "code",
   "execution_count": null,
   "metadata": {
    "scrolled": true
   },
   "outputs": [],
   "source": [
    "start_base = 0\n",
    "start_inst = 1\n",
    "end_base = 77\n",
    "end_inst = 1\n",
    "\n",
    "rel_0 = [27,11,12,28,13,25]\n",
    "rel_1 = [25,28,29,24,11,12,13,14,15,22,23,20,21,16,19,17,18]\n",
    "rel_2 = [25,26,27,28]\n",
    "rel_3 = [21]\n",
    "\n",
    "for j in range(start_base,end_base+1):\n",
    "    #browser.execute_script('alert(' + str(start_base) + ')')\n",
    "    time.sleep(10)\n",
    "    browser.execute_script('selectDataBase(' + str(j) + ')')\n",
    "    time.sleep(5)\n",
    "    for k in range(start_inst,end_inst+1):\n",
    "            browser.execute_script('selectTipoInst(' + str(k) + ')')\n",
    "            time.sleep(5)\n",
    "            if k == 0:\n",
    "                for i in range(len(rel_0)):\n",
    "                    browser.execute_script('selectRelatorio(' + str(rel_0[i]) + ')')\n",
    "                    time.sleep(20)\n",
    "                    browser.execute_script('downloadCsv()')\n",
    "                    \n",
    "            if k==1:\n",
    "                for i in range(len(rel_1)):\n",
    "                    browser.execute_script('selectRelatorio(' + str(rel_1[i]) + ')')\n",
    "                    time.sleep(20)\n",
    "                    browser.execute_script('downloadCsv()')\n",
    "                    \n",
    "            if k==2:\n",
    "                for i in range(len(rel_2)):\n",
    "                    browser.execute_script('selectRelatorio(' + str(rel_2[i]) + ')')\n",
    "                    time.sleep(20)\n",
    "                    browser.execute_script('downloadCsv()')\n",
    "            if k==3:\n",
    "                for i in range(len(rel_3)):\n",
    "                    browser.execute_script('selectRelatorio(' + str(rel_3[i]) + ')')\n",
    "                    time.sleep(20)\n",
    "                    browser.execute_script('downloadCsv()')\n",
    "                    \n",
    "                    \n",
    "                \n"
   ]
  },
  {
   "cell_type": "code",
   "execution_count": null,
   "metadata": {},
   "outputs": [],
   "source": []
  },
  {
   "cell_type": "code",
   "execution_count": null,
   "metadata": {},
   "outputs": [],
   "source": []
  }
 ],
 "metadata": {
  "kernelspec": {
   "display_name": "Python 3",
   "language": "python",
   "name": "python3"
  },
  "language_info": {
   "codemirror_mode": {
    "name": "ipython",
    "version": 3
   },
   "file_extension": ".py",
   "mimetype": "text/x-python",
   "name": "python",
   "nbconvert_exporter": "python",
   "pygments_lexer": "ipython3",
   "version": "3.7.3"
  }
 },
 "nbformat": 4,
 "nbformat_minor": 2
}
